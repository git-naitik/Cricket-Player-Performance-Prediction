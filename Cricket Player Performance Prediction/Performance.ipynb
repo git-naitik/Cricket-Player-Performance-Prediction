{
 "cells": [
  {
   "cell_type": "markdown",
   "metadata": {},
   "source": [
    "## **Cricket player performance prediction using ML**"
   ]
  },
  {
   "cell_type": "markdown",
   "metadata": {},
   "source": [
    "#### Predicting Performance(Strike Rate) of batsman"
   ]
  },
  {
   "cell_type": "code",
   "execution_count": 99,
   "metadata": {},
   "outputs": [],
   "source": [
    "import pandas as pd\n",
    "import numpy as np\n",
    "import matplotlib.pyplot as plt\n",
    "%matplotlib inline"
   ]
  },
  {
   "cell_type": "code",
   "execution_count": 100,
   "metadata": {},
   "outputs": [
    {
     "data": {
      "text/html": [
       "<div>\n",
       "<style scoped>\n",
       "    .dataframe tbody tr th:only-of-type {\n",
       "        vertical-align: middle;\n",
       "    }\n",
       "\n",
       "    .dataframe tbody tr th {\n",
       "        vertical-align: top;\n",
       "    }\n",
       "\n",
       "    .dataframe thead th {\n",
       "        text-align: right;\n",
       "    }\n",
       "</style>\n",
       "<table border=\"1\" class=\"dataframe\">\n",
       "  <thead>\n",
       "    <tr style=\"text-align: right;\">\n",
       "      <th></th>\n",
       "      <th>Unnamed: 0</th>\n",
       "      <th>name_x</th>\n",
       "      <th>playing_role</th>\n",
       "      <th>id</th>\n",
       "      <th>order</th>\n",
       "      <th>runs_x</th>\n",
       "      <th>balls</th>\n",
       "      <th>strike_rate</th>\n",
       "      <th>fours</th>\n",
       "      <th>sixes</th>\n",
       "      <th>...</th>\n",
       "      <th>matchtype</th>\n",
       "      <th>series_id</th>\n",
       "      <th>match_detail_id</th>\n",
       "      <th>title</th>\n",
       "      <th>runs_y</th>\n",
       "      <th>over</th>\n",
       "      <th>run_rate</th>\n",
       "      <th>match_id</th>\n",
       "      <th>opp_team_id</th>\n",
       "      <th>team_id</th>\n",
       "    </tr>\n",
       "  </thead>\n",
       "  <tbody>\n",
       "    <tr>\n",
       "      <th>0</th>\n",
       "      <td>13463</td>\n",
       "      <td>Tapash Baisya</td>\n",
       "      <td>NaN</td>\n",
       "      <td>13464</td>\n",
       "      <td>9</td>\n",
       "      <td>7</td>\n",
       "      <td>5</td>\n",
       "      <td>140.00</td>\n",
       "      <td>1</td>\n",
       "      <td>0</td>\n",
       "      <td>...</td>\n",
       "      <td>odi</td>\n",
       "      <td>182</td>\n",
       "      <td>773</td>\n",
       "      <td>Bangladesh Innings</td>\n",
       "      <td>234</td>\n",
       "      <td>50.0</td>\n",
       "      <td>4.68</td>\n",
       "      <td>633</td>\n",
       "      <td>2</td>\n",
       "      <td>7</td>\n",
       "    </tr>\n",
       "    <tr>\n",
       "      <th>1</th>\n",
       "      <td>13462</td>\n",
       "      <td>Khaled Mahmud</td>\n",
       "      <td>NaN</td>\n",
       "      <td>13463</td>\n",
       "      <td>8</td>\n",
       "      <td>21</td>\n",
       "      <td>17</td>\n",
       "      <td>123.52</td>\n",
       "      <td>3</td>\n",
       "      <td>0</td>\n",
       "      <td>...</td>\n",
       "      <td>odi</td>\n",
       "      <td>182</td>\n",
       "      <td>773</td>\n",
       "      <td>Bangladesh Innings</td>\n",
       "      <td>234</td>\n",
       "      <td>50.0</td>\n",
       "      <td>4.68</td>\n",
       "      <td>633</td>\n",
       "      <td>2</td>\n",
       "      <td>7</td>\n",
       "    </tr>\n",
       "    <tr>\n",
       "      <th>2</th>\n",
       "      <td>13459</td>\n",
       "      <td>Rajin Saleh</td>\n",
       "      <td>NaN</td>\n",
       "      <td>13460</td>\n",
       "      <td>5</td>\n",
       "      <td>14</td>\n",
       "      <td>28</td>\n",
       "      <td>50.00</td>\n",
       "      <td>1</td>\n",
       "      <td>0</td>\n",
       "      <td>...</td>\n",
       "      <td>odi</td>\n",
       "      <td>182</td>\n",
       "      <td>773</td>\n",
       "      <td>Bangladesh Innings</td>\n",
       "      <td>234</td>\n",
       "      <td>50.0</td>\n",
       "      <td>4.68</td>\n",
       "      <td>633</td>\n",
       "      <td>2</td>\n",
       "      <td>7</td>\n",
       "    </tr>\n",
       "    <tr>\n",
       "      <th>3</th>\n",
       "      <td>13461</td>\n",
       "      <td>Mushfiqur Rahman</td>\n",
       "      <td>NaN</td>\n",
       "      <td>13462</td>\n",
       "      <td>7</td>\n",
       "      <td>2</td>\n",
       "      <td>6</td>\n",
       "      <td>33.33</td>\n",
       "      <td>0</td>\n",
       "      <td>0</td>\n",
       "      <td>...</td>\n",
       "      <td>odi</td>\n",
       "      <td>182</td>\n",
       "      <td>773</td>\n",
       "      <td>Bangladesh Innings</td>\n",
       "      <td>234</td>\n",
       "      <td>50.0</td>\n",
       "      <td>4.68</td>\n",
       "      <td>633</td>\n",
       "      <td>2</td>\n",
       "      <td>7</td>\n",
       "    </tr>\n",
       "    <tr>\n",
       "      <th>4</th>\n",
       "      <td>13458</td>\n",
       "      <td>Aftab Ahmed</td>\n",
       "      <td>NaN</td>\n",
       "      <td>13459</td>\n",
       "      <td>4</td>\n",
       "      <td>30</td>\n",
       "      <td>49</td>\n",
       "      <td>61.22</td>\n",
       "      <td>2</td>\n",
       "      <td>1</td>\n",
       "      <td>...</td>\n",
       "      <td>odi</td>\n",
       "      <td>182</td>\n",
       "      <td>773</td>\n",
       "      <td>Bangladesh Innings</td>\n",
       "      <td>234</td>\n",
       "      <td>50.0</td>\n",
       "      <td>4.68</td>\n",
       "      <td>633</td>\n",
       "      <td>2</td>\n",
       "      <td>7</td>\n",
       "    </tr>\n",
       "  </tbody>\n",
       "</table>\n",
       "<p>5 rows × 28 columns</p>\n",
       "</div>"
      ],
      "text/plain": [
       "   Unnamed: 0            name_x playing_role     id  order  runs_x  balls  \\\n",
       "0       13463     Tapash Baisya          NaN  13464      9       7      5   \n",
       "1       13462     Khaled Mahmud          NaN  13463      8      21     17   \n",
       "2       13459       Rajin Saleh          NaN  13460      5      14     28   \n",
       "3       13461  Mushfiqur Rahman          NaN  13462      7       2      6   \n",
       "4       13458       Aftab Ahmed          NaN  13459      4      30     49   \n",
       "\n",
       "   strike_rate  fours  sixes  ... matchtype  series_id  match_detail_id  \\\n",
       "0       140.00      1      0  ...       odi        182              773   \n",
       "1       123.52      3      0  ...       odi        182              773   \n",
       "2        50.00      1      0  ...       odi        182              773   \n",
       "3        33.33      0      0  ...       odi        182              773   \n",
       "4        61.22      2      1  ...       odi        182              773   \n",
       "\n",
       "                title  runs_y  over run_rate match_id opp_team_id  team_id  \n",
       "0  Bangladesh Innings     234  50.0     4.68      633           2        7  \n",
       "1  Bangladesh Innings     234  50.0     4.68      633           2        7  \n",
       "2  Bangladesh Innings     234  50.0     4.68      633           2        7  \n",
       "3  Bangladesh Innings     234  50.0     4.68      633           2        7  \n",
       "4  Bangladesh Innings     234  50.0     4.68      633           2        7  \n",
       "\n",
       "[5 rows x 28 columns]"
      ]
     },
     "execution_count": 100,
     "metadata": {},
     "output_type": "execute_result"
    }
   ],
   "source": [
    "data_bat = pd.read_csv(\"bat.csv\")\n",
    "data_bat.head()"
   ]
  },
  {
   "cell_type": "code",
   "execution_count": 101,
   "metadata": {},
   "outputs": [
    {
     "data": {
      "text/plain": [
       "(52492, 28)"
      ]
     },
     "execution_count": 101,
     "metadata": {},
     "output_type": "execute_result"
    }
   ],
   "source": [
    "data_bat.shape"
   ]
  },
  {
   "cell_type": "code",
   "execution_count": 102,
   "metadata": {},
   "outputs": [
    {
     "data": {
      "text/plain": [
       "Index(['Unnamed: 0', 'name_x', 'playing_role', 'id', 'order', 'runs_x',\n",
       "       'balls', 'strike_rate', 'fours', 'sixes', 'how_out', 'fall_of_wicket',\n",
       "       'fall_of_wicket_over', 'player_id', 'scorecard_id', 'match_number',\n",
       "       'name_y', 'start_date', 'matchtype', 'series_id', 'match_detail_id',\n",
       "       'title', 'runs_y', 'over', 'run_rate', 'match_id', 'opp_team_id',\n",
       "       'team_id'],\n",
       "      dtype='object')"
      ]
     },
     "execution_count": 102,
     "metadata": {},
     "output_type": "execute_result"
    }
   ],
   "source": [
    "data_bat.columns"
   ]
  },
  {
   "cell_type": "code",
   "execution_count": 103,
   "metadata": {},
   "outputs": [
    {
     "name": "stdout",
     "output_type": "stream",
     "text": [
      "<class 'pandas.core.frame.DataFrame'>\n",
      "RangeIndex: 52492 entries, 0 to 52491\n",
      "Data columns (total 28 columns):\n",
      " #   Column               Non-Null Count  Dtype  \n",
      "---  ------               --------------  -----  \n",
      " 0   Unnamed: 0           52492 non-null  int64  \n",
      " 1   name_x               52492 non-null  object \n",
      " 2   playing_role         50949 non-null  object \n",
      " 3   id                   52492 non-null  int64  \n",
      " 4   order                52492 non-null  int64  \n",
      " 5   runs_x               52492 non-null  int64  \n",
      " 6   balls                52492 non-null  int64  \n",
      " 7   strike_rate          52492 non-null  float64\n",
      " 8   fours                52492 non-null  int64  \n",
      " 9   sixes                52492 non-null  int64  \n",
      " 10  how_out              52483 non-null  object \n",
      " 11  fall_of_wicket       44 non-null     float64\n",
      " 12  fall_of_wicket_over  52492 non-null  float64\n",
      " 13  player_id            52492 non-null  int64  \n",
      " 14  scorecard_id         52492 non-null  int64  \n",
      " 15  match_number         51857 non-null  float64\n",
      " 16  name_y               52479 non-null  object \n",
      " 17  start_date           52492 non-null  object \n",
      " 18  matchtype            52455 non-null  object \n",
      " 19  series_id            52492 non-null  int64  \n",
      " 20  match_detail_id      52492 non-null  int64  \n",
      " 21  title                52492 non-null  object \n",
      " 22  runs_y               52492 non-null  int64  \n",
      " 23  over                 52492 non-null  float64\n",
      " 24  run_rate             52492 non-null  float64\n",
      " 25  match_id             52492 non-null  int64  \n",
      " 26  opp_team_id          52492 non-null  int64  \n",
      " 27  team_id              52492 non-null  int64  \n",
      "dtypes: float64(6), int64(15), object(7)\n",
      "memory usage: 11.2+ MB\n"
     ]
    }
   ],
   "source": [
    "data_bat.info()"
   ]
  },
  {
   "cell_type": "code",
   "execution_count": 104,
   "metadata": {},
   "outputs": [
    {
     "data": {
      "text/plain": [
       "Unnamed: 0                 0\n",
       "name_x                     0\n",
       "playing_role            1543\n",
       "id                         0\n",
       "order                      0\n",
       "runs_x                     0\n",
       "balls                      0\n",
       "strike_rate                0\n",
       "fours                      0\n",
       "sixes                      0\n",
       "how_out                    9\n",
       "fall_of_wicket         52448\n",
       "fall_of_wicket_over        0\n",
       "player_id                  0\n",
       "scorecard_id               0\n",
       "match_number             635\n",
       "name_y                    13\n",
       "start_date                 0\n",
       "matchtype                 37\n",
       "series_id                  0\n",
       "match_detail_id            0\n",
       "title                      0\n",
       "runs_y                     0\n",
       "over                       0\n",
       "run_rate                   0\n",
       "match_id                   0\n",
       "opp_team_id                0\n",
       "team_id                    0\n",
       "dtype: int64"
      ]
     },
     "execution_count": 104,
     "metadata": {},
     "output_type": "execute_result"
    }
   ],
   "source": [
    "data_bat.isna().sum()"
   ]
  },
  {
   "cell_type": "code",
   "execution_count": 105,
   "metadata": {},
   "outputs": [
    {
     "data": {
      "text/html": [
       "<div>\n",
       "<style scoped>\n",
       "    .dataframe tbody tr th:only-of-type {\n",
       "        vertical-align: middle;\n",
       "    }\n",
       "\n",
       "    .dataframe tbody tr th {\n",
       "        vertical-align: top;\n",
       "    }\n",
       "\n",
       "    .dataframe thead th {\n",
       "        text-align: right;\n",
       "    }\n",
       "</style>\n",
       "<table border=\"1\" class=\"dataframe\">\n",
       "  <thead>\n",
       "    <tr style=\"text-align: right;\">\n",
       "      <th></th>\n",
       "      <th>Unnamed: 0</th>\n",
       "      <th>runs_x</th>\n",
       "      <th>balls</th>\n",
       "      <th>strike_rate</th>\n",
       "      <th>fours</th>\n",
       "      <th>sixes</th>\n",
       "      <th>fall_of_wicket_over</th>\n",
       "      <th>match_number</th>\n",
       "      <th>matchtype</th>\n",
       "      <th>runs_y</th>\n",
       "      <th>over</th>\n",
       "      <th>run_rate</th>\n",
       "    </tr>\n",
       "  </thead>\n",
       "  <tbody>\n",
       "    <tr>\n",
       "      <th>0</th>\n",
       "      <td>13463</td>\n",
       "      <td>7</td>\n",
       "      <td>5</td>\n",
       "      <td>140.00</td>\n",
       "      <td>1</td>\n",
       "      <td>0</td>\n",
       "      <td>0.0</td>\n",
       "      <td>1.0</td>\n",
       "      <td>odi</td>\n",
       "      <td>234</td>\n",
       "      <td>50.0</td>\n",
       "      <td>4.68</td>\n",
       "    </tr>\n",
       "    <tr>\n",
       "      <th>1</th>\n",
       "      <td>13462</td>\n",
       "      <td>21</td>\n",
       "      <td>17</td>\n",
       "      <td>123.52</td>\n",
       "      <td>3</td>\n",
       "      <td>0</td>\n",
       "      <td>47.3</td>\n",
       "      <td>1.0</td>\n",
       "      <td>odi</td>\n",
       "      <td>234</td>\n",
       "      <td>50.0</td>\n",
       "      <td>4.68</td>\n",
       "    </tr>\n",
       "    <tr>\n",
       "      <th>2</th>\n",
       "      <td>13459</td>\n",
       "      <td>14</td>\n",
       "      <td>28</td>\n",
       "      <td>50.00</td>\n",
       "      <td>1</td>\n",
       "      <td>0</td>\n",
       "      <td>38.1</td>\n",
       "      <td>1.0</td>\n",
       "      <td>odi</td>\n",
       "      <td>234</td>\n",
       "      <td>50.0</td>\n",
       "      <td>4.68</td>\n",
       "    </tr>\n",
       "    <tr>\n",
       "      <th>3</th>\n",
       "      <td>13461</td>\n",
       "      <td>2</td>\n",
       "      <td>6</td>\n",
       "      <td>33.33</td>\n",
       "      <td>0</td>\n",
       "      <td>0</td>\n",
       "      <td>41.6</td>\n",
       "      <td>1.0</td>\n",
       "      <td>odi</td>\n",
       "      <td>234</td>\n",
       "      <td>50.0</td>\n",
       "      <td>4.68</td>\n",
       "    </tr>\n",
       "    <tr>\n",
       "      <th>4</th>\n",
       "      <td>13458</td>\n",
       "      <td>30</td>\n",
       "      <td>49</td>\n",
       "      <td>61.22</td>\n",
       "      <td>2</td>\n",
       "      <td>1</td>\n",
       "      <td>28.4</td>\n",
       "      <td>1.0</td>\n",
       "      <td>odi</td>\n",
       "      <td>234</td>\n",
       "      <td>50.0</td>\n",
       "      <td>4.68</td>\n",
       "    </tr>\n",
       "  </tbody>\n",
       "</table>\n",
       "</div>"
      ],
      "text/plain": [
       "   Unnamed: 0  runs_x  balls  strike_rate  fours  sixes  fall_of_wicket_over  \\\n",
       "0       13463       7      5       140.00      1      0                  0.0   \n",
       "1       13462      21     17       123.52      3      0                 47.3   \n",
       "2       13459      14     28        50.00      1      0                 38.1   \n",
       "3       13461       2      6        33.33      0      0                 41.6   \n",
       "4       13458      30     49        61.22      2      1                 28.4   \n",
       "\n",
       "   match_number matchtype  runs_y  over  run_rate  \n",
       "0           1.0       odi     234  50.0      4.68  \n",
       "1           1.0       odi     234  50.0      4.68  \n",
       "2           1.0       odi     234  50.0      4.68  \n",
       "3           1.0       odi     234  50.0      4.68  \n",
       "4           1.0       odi     234  50.0      4.68  "
      ]
     },
     "execution_count": 105,
     "metadata": {},
     "output_type": "execute_result"
    }
   ],
   "source": [
    "data_bat.drop([\"match_detail_id\",\"playing_role\",\"id\",\"player_id\",\"scorecard_id\",\"start_date\",\"match_id\",\"opp_team_id\",\"team_id\",\"title\",\"name_x\",\"name_y\",\"order\",\"how_out\",\"fall_of_wicket\",\"series_id\"],axis = 1, inplace=True)\n",
    "data_bat.head()"
   ]
  },
  {
   "cell_type": "code",
   "execution_count": 106,
   "metadata": {},
   "outputs": [
    {
     "data": {
      "text/plain": [
       "array(['odi', 'test', 't20', nan], dtype=object)"
      ]
     },
     "execution_count": 106,
     "metadata": {},
     "output_type": "execute_result"
    }
   ],
   "source": [
    "data_bat[\"matchtype\"].unique()"
   ]
  },
  {
   "cell_type": "code",
   "execution_count": 107,
   "metadata": {},
   "outputs": [
    {
     "data": {
      "text/html": [
       "<div>\n",
       "<style scoped>\n",
       "    .dataframe tbody tr th:only-of-type {\n",
       "        vertical-align: middle;\n",
       "    }\n",
       "\n",
       "    .dataframe tbody tr th {\n",
       "        vertical-align: top;\n",
       "    }\n",
       "\n",
       "    .dataframe thead th {\n",
       "        text-align: right;\n",
       "    }\n",
       "</style>\n",
       "<table border=\"1\" class=\"dataframe\">\n",
       "  <thead>\n",
       "    <tr style=\"text-align: right;\">\n",
       "      <th></th>\n",
       "      <th>Unnamed: 0</th>\n",
       "      <th>runs_x</th>\n",
       "      <th>balls</th>\n",
       "      <th>strike_rate</th>\n",
       "      <th>fours</th>\n",
       "      <th>sixes</th>\n",
       "      <th>fall_of_wicket_over</th>\n",
       "      <th>match_number</th>\n",
       "      <th>runs_y</th>\n",
       "      <th>over</th>\n",
       "      <th>run_rate</th>\n",
       "      <th>matchtype_encoded</th>\n",
       "    </tr>\n",
       "  </thead>\n",
       "  <tbody>\n",
       "    <tr>\n",
       "      <th>0</th>\n",
       "      <td>13463</td>\n",
       "      <td>7</td>\n",
       "      <td>5</td>\n",
       "      <td>140.00</td>\n",
       "      <td>1</td>\n",
       "      <td>0</td>\n",
       "      <td>0.0</td>\n",
       "      <td>1.0</td>\n",
       "      <td>234</td>\n",
       "      <td>50.0</td>\n",
       "      <td>4.68</td>\n",
       "      <td>0</td>\n",
       "    </tr>\n",
       "    <tr>\n",
       "      <th>1</th>\n",
       "      <td>13462</td>\n",
       "      <td>21</td>\n",
       "      <td>17</td>\n",
       "      <td>123.52</td>\n",
       "      <td>3</td>\n",
       "      <td>0</td>\n",
       "      <td>47.3</td>\n",
       "      <td>1.0</td>\n",
       "      <td>234</td>\n",
       "      <td>50.0</td>\n",
       "      <td>4.68</td>\n",
       "      <td>0</td>\n",
       "    </tr>\n",
       "    <tr>\n",
       "      <th>2</th>\n",
       "      <td>13459</td>\n",
       "      <td>14</td>\n",
       "      <td>28</td>\n",
       "      <td>50.00</td>\n",
       "      <td>1</td>\n",
       "      <td>0</td>\n",
       "      <td>38.1</td>\n",
       "      <td>1.0</td>\n",
       "      <td>234</td>\n",
       "      <td>50.0</td>\n",
       "      <td>4.68</td>\n",
       "      <td>0</td>\n",
       "    </tr>\n",
       "    <tr>\n",
       "      <th>3</th>\n",
       "      <td>13461</td>\n",
       "      <td>2</td>\n",
       "      <td>6</td>\n",
       "      <td>33.33</td>\n",
       "      <td>0</td>\n",
       "      <td>0</td>\n",
       "      <td>41.6</td>\n",
       "      <td>1.0</td>\n",
       "      <td>234</td>\n",
       "      <td>50.0</td>\n",
       "      <td>4.68</td>\n",
       "      <td>0</td>\n",
       "    </tr>\n",
       "    <tr>\n",
       "      <th>4</th>\n",
       "      <td>13458</td>\n",
       "      <td>30</td>\n",
       "      <td>49</td>\n",
       "      <td>61.22</td>\n",
       "      <td>2</td>\n",
       "      <td>1</td>\n",
       "      <td>28.4</td>\n",
       "      <td>1.0</td>\n",
       "      <td>234</td>\n",
       "      <td>50.0</td>\n",
       "      <td>4.68</td>\n",
       "      <td>0</td>\n",
       "    </tr>\n",
       "  </tbody>\n",
       "</table>\n",
       "</div>"
      ],
      "text/plain": [
       "   Unnamed: 0  runs_x  balls  strike_rate  fours  sixes  fall_of_wicket_over  \\\n",
       "0       13463       7      5       140.00      1      0                  0.0   \n",
       "1       13462      21     17       123.52      3      0                 47.3   \n",
       "2       13459      14     28        50.00      1      0                 38.1   \n",
       "3       13461       2      6        33.33      0      0                 41.6   \n",
       "4       13458      30     49        61.22      2      1                 28.4   \n",
       "\n",
       "   match_number  runs_y  over  run_rate  matchtype_encoded  \n",
       "0           1.0     234  50.0      4.68                  0  \n",
       "1           1.0     234  50.0      4.68                  0  \n",
       "2           1.0     234  50.0      4.68                  0  \n",
       "3           1.0     234  50.0      4.68                  0  \n",
       "4           1.0     234  50.0      4.68                  0  "
      ]
     },
     "execution_count": 107,
     "metadata": {},
     "output_type": "execute_result"
    }
   ],
   "source": [
    "from sklearn.preprocessing import LabelEncoder\n",
    "label_encoder = LabelEncoder()\n",
    "data_bat[\"matchtype_encoded\"] = label_encoder.fit_transform(data_bat[\"matchtype\"])\n",
    "data_bat.drop(\"matchtype\",axis=1,inplace=True)\n",
    "data_bat.head()\n"
   ]
  },
  {
   "cell_type": "code",
   "execution_count": 108,
   "metadata": {},
   "outputs": [
    {
     "data": {
      "text/html": [
       "<div>\n",
       "<style scoped>\n",
       "    .dataframe tbody tr th:only-of-type {\n",
       "        vertical-align: middle;\n",
       "    }\n",
       "\n",
       "    .dataframe tbody tr th {\n",
       "        vertical-align: top;\n",
       "    }\n",
       "\n",
       "    .dataframe thead th {\n",
       "        text-align: right;\n",
       "    }\n",
       "</style>\n",
       "<table border=\"1\" class=\"dataframe\">\n",
       "  <thead>\n",
       "    <tr style=\"text-align: right;\">\n",
       "      <th></th>\n",
       "      <th>runs_x</th>\n",
       "      <th>balls</th>\n",
       "      <th>strike_rate</th>\n",
       "      <th>fours</th>\n",
       "      <th>sixes</th>\n",
       "      <th>fall_of_wicket_over</th>\n",
       "      <th>match_number</th>\n",
       "      <th>runs_y</th>\n",
       "      <th>over</th>\n",
       "      <th>run_rate</th>\n",
       "      <th>matchtype_encoded</th>\n",
       "    </tr>\n",
       "  </thead>\n",
       "  <tbody>\n",
       "    <tr>\n",
       "      <th>0</th>\n",
       "      <td>7</td>\n",
       "      <td>5</td>\n",
       "      <td>140.00</td>\n",
       "      <td>1</td>\n",
       "      <td>0</td>\n",
       "      <td>0.0</td>\n",
       "      <td>1.0</td>\n",
       "      <td>234</td>\n",
       "      <td>50.0</td>\n",
       "      <td>4.68</td>\n",
       "      <td>0</td>\n",
       "    </tr>\n",
       "    <tr>\n",
       "      <th>1</th>\n",
       "      <td>21</td>\n",
       "      <td>17</td>\n",
       "      <td>123.52</td>\n",
       "      <td>3</td>\n",
       "      <td>0</td>\n",
       "      <td>47.3</td>\n",
       "      <td>1.0</td>\n",
       "      <td>234</td>\n",
       "      <td>50.0</td>\n",
       "      <td>4.68</td>\n",
       "      <td>0</td>\n",
       "    </tr>\n",
       "    <tr>\n",
       "      <th>2</th>\n",
       "      <td>14</td>\n",
       "      <td>28</td>\n",
       "      <td>50.00</td>\n",
       "      <td>1</td>\n",
       "      <td>0</td>\n",
       "      <td>38.1</td>\n",
       "      <td>1.0</td>\n",
       "      <td>234</td>\n",
       "      <td>50.0</td>\n",
       "      <td>4.68</td>\n",
       "      <td>0</td>\n",
       "    </tr>\n",
       "    <tr>\n",
       "      <th>3</th>\n",
       "      <td>2</td>\n",
       "      <td>6</td>\n",
       "      <td>33.33</td>\n",
       "      <td>0</td>\n",
       "      <td>0</td>\n",
       "      <td>41.6</td>\n",
       "      <td>1.0</td>\n",
       "      <td>234</td>\n",
       "      <td>50.0</td>\n",
       "      <td>4.68</td>\n",
       "      <td>0</td>\n",
       "    </tr>\n",
       "    <tr>\n",
       "      <th>4</th>\n",
       "      <td>30</td>\n",
       "      <td>49</td>\n",
       "      <td>61.22</td>\n",
       "      <td>2</td>\n",
       "      <td>1</td>\n",
       "      <td>28.4</td>\n",
       "      <td>1.0</td>\n",
       "      <td>234</td>\n",
       "      <td>50.0</td>\n",
       "      <td>4.68</td>\n",
       "      <td>0</td>\n",
       "    </tr>\n",
       "  </tbody>\n",
       "</table>\n",
       "</div>"
      ],
      "text/plain": [
       "   runs_x  balls  strike_rate  fours  sixes  fall_of_wicket_over  \\\n",
       "0       7      5       140.00      1      0                  0.0   \n",
       "1      21     17       123.52      3      0                 47.3   \n",
       "2      14     28        50.00      1      0                 38.1   \n",
       "3       2      6        33.33      0      0                 41.6   \n",
       "4      30     49        61.22      2      1                 28.4   \n",
       "\n",
       "   match_number  runs_y  over  run_rate  matchtype_encoded  \n",
       "0           1.0     234  50.0      4.68                  0  \n",
       "1           1.0     234  50.0      4.68                  0  \n",
       "2           1.0     234  50.0      4.68                  0  \n",
       "3           1.0     234  50.0      4.68                  0  \n",
       "4           1.0     234  50.0      4.68                  0  "
      ]
     },
     "execution_count": 108,
     "metadata": {},
     "output_type": "execute_result"
    }
   ],
   "source": [
    "data_bat_new = data_bat.iloc[:, 1:]\n",
    "data_bat_new.head()"
   ]
  },
  {
   "cell_type": "code",
   "execution_count": 109,
   "metadata": {},
   "outputs": [],
   "source": [
    "data_y = data_bat_new[\"strike_rate\"]\n",
    "data_x = data_bat_new.drop(\"strike_rate\", axis=1)"
   ]
  },
  {
   "cell_type": "code",
   "execution_count": 110,
   "metadata": {},
   "outputs": [
    {
     "data": {
      "text/html": [
       "<div>\n",
       "<style scoped>\n",
       "    .dataframe tbody tr th:only-of-type {\n",
       "        vertical-align: middle;\n",
       "    }\n",
       "\n",
       "    .dataframe tbody tr th {\n",
       "        vertical-align: top;\n",
       "    }\n",
       "\n",
       "    .dataframe thead th {\n",
       "        text-align: right;\n",
       "    }\n",
       "</style>\n",
       "<table border=\"1\" class=\"dataframe\">\n",
       "  <thead>\n",
       "    <tr style=\"text-align: right;\">\n",
       "      <th></th>\n",
       "      <th>runs_x</th>\n",
       "      <th>balls</th>\n",
       "      <th>fours</th>\n",
       "      <th>sixes</th>\n",
       "      <th>fall_of_wicket_over</th>\n",
       "      <th>match_number</th>\n",
       "      <th>runs_y</th>\n",
       "      <th>over</th>\n",
       "      <th>run_rate</th>\n",
       "      <th>matchtype_encoded</th>\n",
       "    </tr>\n",
       "  </thead>\n",
       "  <tbody>\n",
       "    <tr>\n",
       "      <th>0</th>\n",
       "      <td>7</td>\n",
       "      <td>5</td>\n",
       "      <td>1</td>\n",
       "      <td>0</td>\n",
       "      <td>0.0</td>\n",
       "      <td>1.0</td>\n",
       "      <td>234</td>\n",
       "      <td>50.0</td>\n",
       "      <td>4.68</td>\n",
       "      <td>0</td>\n",
       "    </tr>\n",
       "    <tr>\n",
       "      <th>1</th>\n",
       "      <td>21</td>\n",
       "      <td>17</td>\n",
       "      <td>3</td>\n",
       "      <td>0</td>\n",
       "      <td>47.3</td>\n",
       "      <td>1.0</td>\n",
       "      <td>234</td>\n",
       "      <td>50.0</td>\n",
       "      <td>4.68</td>\n",
       "      <td>0</td>\n",
       "    </tr>\n",
       "    <tr>\n",
       "      <th>2</th>\n",
       "      <td>14</td>\n",
       "      <td>28</td>\n",
       "      <td>1</td>\n",
       "      <td>0</td>\n",
       "      <td>38.1</td>\n",
       "      <td>1.0</td>\n",
       "      <td>234</td>\n",
       "      <td>50.0</td>\n",
       "      <td>4.68</td>\n",
       "      <td>0</td>\n",
       "    </tr>\n",
       "    <tr>\n",
       "      <th>3</th>\n",
       "      <td>2</td>\n",
       "      <td>6</td>\n",
       "      <td>0</td>\n",
       "      <td>0</td>\n",
       "      <td>41.6</td>\n",
       "      <td>1.0</td>\n",
       "      <td>234</td>\n",
       "      <td>50.0</td>\n",
       "      <td>4.68</td>\n",
       "      <td>0</td>\n",
       "    </tr>\n",
       "    <tr>\n",
       "      <th>4</th>\n",
       "      <td>30</td>\n",
       "      <td>49</td>\n",
       "      <td>2</td>\n",
       "      <td>1</td>\n",
       "      <td>28.4</td>\n",
       "      <td>1.0</td>\n",
       "      <td>234</td>\n",
       "      <td>50.0</td>\n",
       "      <td>4.68</td>\n",
       "      <td>0</td>\n",
       "    </tr>\n",
       "  </tbody>\n",
       "</table>\n",
       "</div>"
      ],
      "text/plain": [
       "   runs_x  balls  fours  sixes  fall_of_wicket_over  match_number  runs_y  \\\n",
       "0       7      5      1      0                  0.0           1.0     234   \n",
       "1      21     17      3      0                 47.3           1.0     234   \n",
       "2      14     28      1      0                 38.1           1.0     234   \n",
       "3       2      6      0      0                 41.6           1.0     234   \n",
       "4      30     49      2      1                 28.4           1.0     234   \n",
       "\n",
       "   over  run_rate  matchtype_encoded  \n",
       "0  50.0      4.68                  0  \n",
       "1  50.0      4.68                  0  \n",
       "2  50.0      4.68                  0  \n",
       "3  50.0      4.68                  0  \n",
       "4  50.0      4.68                  0  "
      ]
     },
     "execution_count": 110,
     "metadata": {},
     "output_type": "execute_result"
    }
   ],
   "source": [
    "data_x.head()"
   ]
  },
  {
   "cell_type": "code",
   "execution_count": 111,
   "metadata": {},
   "outputs": [
    {
     "data": {
      "text/plain": [
       "runs_x                   0\n",
       "balls                    0\n",
       "fours                    0\n",
       "sixes                    0\n",
       "fall_of_wicket_over      0\n",
       "match_number           635\n",
       "runs_y                   0\n",
       "over                     0\n",
       "run_rate                 0\n",
       "matchtype_encoded        0\n",
       "dtype: int64"
      ]
     },
     "execution_count": 111,
     "metadata": {},
     "output_type": "execute_result"
    }
   ],
   "source": [
    "data_x.isna().sum()"
   ]
  },
  {
   "cell_type": "code",
   "execution_count": 112,
   "metadata": {},
   "outputs": [
    {
     "data": {
      "text/plain": [
       "(52492, 10)"
      ]
     },
     "execution_count": 112,
     "metadata": {},
     "output_type": "execute_result"
    }
   ],
   "source": [
    "mean_value = data_x[\"match_number\"].mean()\n",
    "data_x[\"match_number\"].fillna(mean_value,inplace=True)\n",
    "data_x.shape"
   ]
  },
  {
   "cell_type": "code",
   "execution_count": 113,
   "metadata": {},
   "outputs": [
    {
     "name": "stdout",
     "output_type": "stream",
     "text": [
      "0    140.00\n",
      "1    123.52\n",
      "2     50.00\n",
      "3     33.33\n",
      "4     61.22\n",
      "Name: strike_rate, dtype: float64\n",
      "(52492,)\n"
     ]
    }
   ],
   "source": [
    "print(data_y.head())\n",
    "print(data_y.shape)"
   ]
  },
  {
   "cell_type": "code",
   "execution_count": 114,
   "metadata": {},
   "outputs": [
    {
     "name": "stdout",
     "output_type": "stream",
     "text": [
      "runs_x                 0\n",
      "balls                  0\n",
      "fours                  0\n",
      "sixes                  0\n",
      "fall_of_wicket_over    0\n",
      "match_number           0\n",
      "runs_y                 0\n",
      "over                   0\n",
      "run_rate               0\n",
      "matchtype_encoded      0\n",
      "dtype: int64\n",
      "0\n"
     ]
    }
   ],
   "source": [
    "print(data_x.isna().sum())\n",
    "print(data_y.isna().sum())"
   ]
  },
  {
   "cell_type": "code",
   "execution_count": 115,
   "metadata": {},
   "outputs": [],
   "source": [
    "from sklearn.linear_model import LinearRegression\n",
    "from sklearn.model_selection import train_test_split"
   ]
  },
  {
   "cell_type": "code",
   "execution_count": 116,
   "metadata": {},
   "outputs": [],
   "source": [
    "x_train, x_test, y_train, y_test = train_test_split(data_x, data_y, test_size= 0.3)"
   ]
  },
  {
   "cell_type": "code",
   "execution_count": 117,
   "metadata": {},
   "outputs": [
    {
     "data": {
      "text/html": [
       "<style>#sk-container-id-3 {color: black;}#sk-container-id-3 pre{padding: 0;}#sk-container-id-3 div.sk-toggleable {background-color: white;}#sk-container-id-3 label.sk-toggleable__label {cursor: pointer;display: block;width: 100%;margin-bottom: 0;padding: 0.3em;box-sizing: border-box;text-align: center;}#sk-container-id-3 label.sk-toggleable__label-arrow:before {content: \"▸\";float: left;margin-right: 0.25em;color: #696969;}#sk-container-id-3 label.sk-toggleable__label-arrow:hover:before {color: black;}#sk-container-id-3 div.sk-estimator:hover label.sk-toggleable__label-arrow:before {color: black;}#sk-container-id-3 div.sk-toggleable__content {max-height: 0;max-width: 0;overflow: hidden;text-align: left;background-color: #f0f8ff;}#sk-container-id-3 div.sk-toggleable__content pre {margin: 0.2em;color: black;border-radius: 0.25em;background-color: #f0f8ff;}#sk-container-id-3 input.sk-toggleable__control:checked~div.sk-toggleable__content {max-height: 200px;max-width: 100%;overflow: auto;}#sk-container-id-3 input.sk-toggleable__control:checked~label.sk-toggleable__label-arrow:before {content: \"▾\";}#sk-container-id-3 div.sk-estimator input.sk-toggleable__control:checked~label.sk-toggleable__label {background-color: #d4ebff;}#sk-container-id-3 div.sk-label input.sk-toggleable__control:checked~label.sk-toggleable__label {background-color: #d4ebff;}#sk-container-id-3 input.sk-hidden--visually {border: 0;clip: rect(1px 1px 1px 1px);clip: rect(1px, 1px, 1px, 1px);height: 1px;margin: -1px;overflow: hidden;padding: 0;position: absolute;width: 1px;}#sk-container-id-3 div.sk-estimator {font-family: monospace;background-color: #f0f8ff;border: 1px dotted black;border-radius: 0.25em;box-sizing: border-box;margin-bottom: 0.5em;}#sk-container-id-3 div.sk-estimator:hover {background-color: #d4ebff;}#sk-container-id-3 div.sk-parallel-item::after {content: \"\";width: 100%;border-bottom: 1px solid gray;flex-grow: 1;}#sk-container-id-3 div.sk-label:hover label.sk-toggleable__label {background-color: #d4ebff;}#sk-container-id-3 div.sk-serial::before {content: \"\";position: absolute;border-left: 1px solid gray;box-sizing: border-box;top: 0;bottom: 0;left: 50%;z-index: 0;}#sk-container-id-3 div.sk-serial {display: flex;flex-direction: column;align-items: center;background-color: white;padding-right: 0.2em;padding-left: 0.2em;position: relative;}#sk-container-id-3 div.sk-item {position: relative;z-index: 1;}#sk-container-id-3 div.sk-parallel {display: flex;align-items: stretch;justify-content: center;background-color: white;position: relative;}#sk-container-id-3 div.sk-item::before, #sk-container-id-3 div.sk-parallel-item::before {content: \"\";position: absolute;border-left: 1px solid gray;box-sizing: border-box;top: 0;bottom: 0;left: 50%;z-index: -1;}#sk-container-id-3 div.sk-parallel-item {display: flex;flex-direction: column;z-index: 1;position: relative;background-color: white;}#sk-container-id-3 div.sk-parallel-item:first-child::after {align-self: flex-end;width: 50%;}#sk-container-id-3 div.sk-parallel-item:last-child::after {align-self: flex-start;width: 50%;}#sk-container-id-3 div.sk-parallel-item:only-child::after {width: 0;}#sk-container-id-3 div.sk-dashed-wrapped {border: 1px dashed gray;margin: 0 0.4em 0.5em 0.4em;box-sizing: border-box;padding-bottom: 0.4em;background-color: white;}#sk-container-id-3 div.sk-label label {font-family: monospace;font-weight: bold;display: inline-block;line-height: 1.2em;}#sk-container-id-3 div.sk-label-container {text-align: center;}#sk-container-id-3 div.sk-container {/* jupyter's `normalize.less` sets `[hidden] { display: none; }` but bootstrap.min.css set `[hidden] { display: none !important; }` so we also need the `!important` here to be able to override the default hidden behavior on the sphinx rendered scikit-learn.org. See: https://github.com/scikit-learn/scikit-learn/issues/21755 */display: inline-block !important;position: relative;}#sk-container-id-3 div.sk-text-repr-fallback {display: none;}</style><div id=\"sk-container-id-3\" class=\"sk-top-container\"><div class=\"sk-text-repr-fallback\"><pre>LinearRegression()</pre><b>In a Jupyter environment, please rerun this cell to show the HTML representation or trust the notebook. <br />On GitHub, the HTML representation is unable to render, please try loading this page with nbviewer.org.</b></div><div class=\"sk-container\" hidden><div class=\"sk-item\"><div class=\"sk-estimator sk-toggleable\"><input class=\"sk-toggleable__control sk-hidden--visually\" id=\"sk-estimator-id-3\" type=\"checkbox\" checked><label for=\"sk-estimator-id-3\" class=\"sk-toggleable__label sk-toggleable__label-arrow\">LinearRegression</label><div class=\"sk-toggleable__content\"><pre>LinearRegression()</pre></div></div></div></div></div>"
      ],
      "text/plain": [
       "LinearRegression()"
      ]
     },
     "execution_count": 117,
     "metadata": {},
     "output_type": "execute_result"
    }
   ],
   "source": [
    "LR =LinearRegression()\n",
    "LR.fit(x_train,y_train)"
   ]
  },
  {
   "cell_type": "code",
   "execution_count": 118,
   "metadata": {},
   "outputs": [
    {
     "data": {
      "text/plain": [
       "0.43654114249832343"
      ]
     },
     "execution_count": 118,
     "metadata": {},
     "output_type": "execute_result"
    }
   ],
   "source": [
    "LR.score(x_train,y_train)"
   ]
  },
  {
   "cell_type": "code",
   "execution_count": 119,
   "metadata": {},
   "outputs": [
    {
     "data": {
      "text/plain": [
       "array([ 86.26873763,  97.20717112,  86.02153682, ..., 120.91307265,\n",
       "        39.18508467,  60.71969379])"
      ]
     },
     "execution_count": 119,
     "metadata": {},
     "output_type": "execute_result"
    }
   ],
   "source": [
    "LR.predict(x_test)"
   ]
  },
  {
   "cell_type": "code",
   "execution_count": 120,
   "metadata": {},
   "outputs": [
    {
     "data": {
      "text/plain": [
       "0.4434614522827697"
      ]
     },
     "execution_count": 120,
     "metadata": {},
     "output_type": "execute_result"
    }
   ],
   "source": [
    "LR.score(x_test,y_test)"
   ]
  }
 ],
 "metadata": {
  "kernelspec": {
   "display_name": "Python 3",
   "language": "python",
   "name": "python3"
  },
  "language_info": {
   "codemirror_mode": {
    "name": "ipython",
    "version": 3
   },
   "file_extension": ".py",
   "mimetype": "text/x-python",
   "name": "python",
   "nbconvert_exporter": "python",
   "pygments_lexer": "ipython3",
   "version": "3.11.4"
  },
  "orig_nbformat": 4
 },
 "nbformat": 4,
 "nbformat_minor": 2
}
